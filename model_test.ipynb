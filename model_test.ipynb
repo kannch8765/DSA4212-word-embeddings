{
 "cells": [
  {
   "cell_type": "code",
   "execution_count": 1,
   "metadata": {},
   "outputs": [],
   "source": [
    "import numpy as np\n",
    "import word_embedding as we"
   ]
  },
  {
   "cell_type": "code",
   "execution_count": 2,
   "metadata": {},
   "outputs": [],
   "source": [
    "import nltk\n",
    "\n",
    "# Function to check if the dataset is already downloaded\n",
    "def download_nltk_data_if_needed(dataset_name):\n",
    "    try:\n",
    "        # Check if the dataset is already available locally\n",
    "        nltk.data.find(f'corpora/{dataset_name}')\n",
    "    except LookupError:\n",
    "        # If not found, download the dataset\n",
    "        nltk.download(dataset_name)\n",
    "\n",
    "# Replace 'treebank' with any other dataset you want to check\n",
    "download_nltk_data_if_needed('treebank')"
   ]
  },
  {
   "cell_type": "code",
   "execution_count": 3,
   "metadata": {},
   "outputs": [
    {
     "name": "stdout",
     "output_type": "stream",
     "text": [
      "[('Pierre', 'NNP'), ('Vinken', 'NNP'), (',', ','), ('61', 'CD'), ('years', 'NNS'), ('old', 'JJ'), (',', ','), ('will', 'MD'), ('join', 'VB'), ('the', 'DT'), ('board', 'NN'), ('as', 'IN'), ('a', 'DT'), ('nonexecutive', 'JJ'), ('director', 'NN'), ('Nov.', 'NNP'), ('29', 'CD'), ('.', '.')]\n"
     ]
    }
   ],
   "source": [
    "tagged_corpus = nltk.corpus.treebank.tagged_sents()\n",
    "print(tagged_corpus[0])"
   ]
  },
  {
   "cell_type": "code",
   "execution_count": 4,
   "metadata": {},
   "outputs": [],
   "source": [
    "window_sizes = [2, 3, 4, 5]  # Experiment with different window sizes\n",
    "words_to_check = ['bank', 'life', 'deal']  # Words to check nearest neighbors for"
   ]
  },
  {
   "cell_type": "code",
   "execution_count": 5,
   "metadata": {},
   "outputs": [
    {
     "name": "stdout",
     "output_type": "stream",
     "text": [
      "\n",
      "--- Training with window size: 2 ---\n"
     ]
    },
    {
     "ename": "AttributeError",
     "evalue": "'numpy.ndarray' object has no attribute 'rsplit'",
     "output_type": "error",
     "traceback": [
      "\u001b[1;31m---------------------------------------------------------------------------\u001b[0m",
      "\u001b[1;31mAttributeError\u001b[0m                            Traceback (most recent call last)",
      "Cell \u001b[1;32mIn[5], line 17\u001b[0m\n\u001b[0;32m     15\u001b[0m     word_vector \u001b[38;5;241m=\u001b[39m co_occurrence_matrix[word_idx, :]\n\u001b[0;32m     16\u001b[0m     \u001b[38;5;66;03m# Find nearest neighbors using the updated function\u001b[39;00m\n\u001b[1;32m---> 17\u001b[0m     neighbors \u001b[38;5;241m=\u001b[39m \u001b[43mwe\u001b[49m\u001b[38;5;241;43m.\u001b[39;49m\u001b[43mfind_nearest_neighbors\u001b[49m\u001b[43m(\u001b[49m\u001b[43mword_vector\u001b[49m\u001b[43m,\u001b[49m\u001b[43m \u001b[49m\u001b[43mco_occurrence_matrix\u001b[49m\u001b[43m,\u001b[49m\u001b[43m \u001b[49m\u001b[43mvocab_index\u001b[49m\u001b[43m,\u001b[49m\u001b[43m \u001b[49m\u001b[43mtop_n\u001b[49m\u001b[38;5;241;43m=\u001b[39;49m\u001b[38;5;241;43m5\u001b[39;49m\u001b[43m)\u001b[49m\n\u001b[0;32m     18\u001b[0m     \u001b[38;5;28mprint\u001b[39m(\u001b[38;5;124mf\u001b[39m\u001b[38;5;124m\"\u001b[39m\u001b[38;5;124mNearest neighbors for \u001b[39m\u001b[38;5;124m'\u001b[39m\u001b[38;5;132;01m{\u001b[39;00mword\u001b[38;5;132;01m}\u001b[39;00m\u001b[38;5;124m'\u001b[39m\u001b[38;5;124m with window size \u001b[39m\u001b[38;5;132;01m{\u001b[39;00mwindow_size\u001b[38;5;132;01m}\u001b[39;00m\u001b[38;5;124m: \u001b[39m\u001b[38;5;132;01m{\u001b[39;00mneighbors\u001b[38;5;132;01m}\u001b[39;00m\u001b[38;5;124m\"\u001b[39m)\n\u001b[0;32m     19\u001b[0m \u001b[38;5;28;01melse\u001b[39;00m:\n",
      "File \u001b[1;32md:\\Github_Repos\\DSA4212-word-embeddings\\word_embedding.py:108\u001b[0m, in \u001b[0;36mfind_nearest_neighbors\u001b[1;34m(word_with_pos, co_occurrence_matrix, vocab_index, top_n)\u001b[0m\n\u001b[0;32m    107\u001b[0m \u001b[38;5;28;01mdef\u001b[39;00m \u001b[38;5;21mfind_nearest_neighbors\u001b[39m(word_with_pos, co_occurrence_matrix, vocab_index, top_n\u001b[38;5;241m=\u001b[39m\u001b[38;5;241m5\u001b[39m):\n\u001b[1;32m--> 108\u001b[0m     _, target_pos \u001b[38;5;241m=\u001b[39m \u001b[43mword_with_pos\u001b[49m\u001b[38;5;241;43m.\u001b[39;49m\u001b[43mrsplit\u001b[49m(\u001b[38;5;124m'\u001b[39m\u001b[38;5;124m_\u001b[39m\u001b[38;5;124m'\u001b[39m, \u001b[38;5;241m1\u001b[39m)  \u001b[38;5;66;03m# Extract the POS tag from the target word\u001b[39;00m\n\u001b[0;32m    109\u001b[0m     word_idx \u001b[38;5;241m=\u001b[39m vocab_index[word_with_pos]  \u001b[38;5;66;03m# Get the index of the target word\u001b[39;00m\n\u001b[0;32m    110\u001b[0m     word_vector \u001b[38;5;241m=\u001b[39m co_occurrence_matrix[word_idx, :]  \u001b[38;5;66;03m# Get the vector for the target word\u001b[39;00m\n",
      "\u001b[1;31mAttributeError\u001b[0m: 'numpy.ndarray' object has no attribute 'rsplit'"
     ]
    }
   ],
   "source": [
    "\n",
    "for window_size in window_sizes:\n",
    "    print(f\"\\n--- Training with window size: {window_size} ---\")\n",
    "    \n",
    "    # Train using the updated word2vec_pos with the current window size\n",
    "    co_occurrence_matrix, vocab_index = we.word2vec_pos(tagged_corpus, window_size=window_size, pos_weighting=None, pos_weights=None)\n",
    "\n",
    "    for word in words_to_check:\n",
    "    # Include the POS tag with the word to differentiate its grammatical role\n",
    "        word_with_pos = f\"{word.lower()}_NN\"  # Example: looking for nouns\n",
    "        if word_with_pos in vocab_index:\n",
    "            # The function now expects the word with its POS tag as the first argument\n",
    "            neighbors = we.find_nearest_neighbors(word_with_pos, co_occurrence_matrix, vocab_index, top_n=5)\n",
    "            print(f\"Nearest neighbors for '{word}' with window size {window_size}: {neighbors}\")\n",
    "        else:\n",
    "            print(f\"Word '{word}' not found in the vocabulary.\")\n",
    "\n"
   ]
  },
  {
   "cell_type": "code",
   "execution_count": null,
   "metadata": {},
   "outputs": [
    {
     "name": "stdout",
     "output_type": "stream",
     "text": [
      "\n",
      "--- Training with window size: 2 ---\n"
     ]
    },
    {
     "name": "stderr",
     "output_type": "stream",
     "text": [
      "d:\\Github_Repos\\DSA4212-word-embeddings\\word_embedding.py:71: RuntimeWarning: invalid value encountered in divide\n",
      "  ppmi_matrix = np.maximum(np.log2(joint_prob_matrix / (word_prob[:, None] * context_prob[None, :])), 0)\n",
      "d:\\Github_Repos\\DSA4212-word-embeddings\\word_embedding.py:71: RuntimeWarning: divide by zero encountered in log2\n",
      "  ppmi_matrix = np.maximum(np.log2(joint_prob_matrix / (word_prob[:, None] * context_prob[None, :])), 0)\n"
     ]
    },
    {
     "name": "stdout",
     "output_type": "stream",
     "text": [
      "Nearest neighbors for 'bank' (as a noun) with window size 2: [('bank_NN', 1.0), ('hub_NN', 0.17952764701792673), ('rap_NN', 0.1633844953010835), ('banking_NN', 0.157220764306915), ('habit_NN', 0.130114415948027)]\n",
      "Nearest neighbors for 'life' (as a noun) with window size 2: [('life_NN', 0.9999999999999999), ('wine-making_NN', 0.24164500764015825), ('batting_NN', 0.20151008696454353), ('sex_NN', 0.1545129465608383), ('spouse_NN', 0.14828250341079866)]\n",
      "Nearest neighbors for 'deal' (as a noun) with window size 2: [('deal_NN', 0.9999999999999999), ('laser_NN', 0.15279723156683317), ('count_NN', 0.15129338638974235), ('bridge_NN', 0.14226287106357155), ('sidewalk_NN', 0.1306482734255041)]\n",
      "\n",
      "--- Training with window size: 3 ---\n",
      "Nearest neighbors for 'bank' (as a noun) with window size 3: [('bank_NN', 1.0), ('banking_NN', 0.12815605433362717), ('milestone_NN', 0.123461102504619), ('hub_NN', 0.1163675461216579), ('directorship_NN', 0.10588980236779791)]\n",
      "Nearest neighbors for 'life' (as a noun) with window size 3: [('life_NN', 1.0), ('inadequacy_NN', 0.21131365338023186), ('spouse_NN', 0.20332134841095198), ('wine-making_NN', 0.17022167509733863), ('tad_NN', 0.16421856696512602)]\n",
      "Nearest neighbors for 'deal' (as a noun) with window size 3: [('deal_NN', 1.0), ('stress_NN', 0.14765448728972477), ('laser_NN', 0.12327625657876819), ('installment_NN', 0.10756107362696413), ('count_NN', 0.1041988209909874)]\n",
      "\n",
      "--- Training with window size: 4 ---\n",
      "Nearest neighbors for 'bank' (as a noun) with window size 4: [('bank_NN', 1.0), ('consulting_NN', 0.1702593396982761), ('merchant_NN', 0.138367765011063), ('passbook_NN', 0.12182169031201673), ('cancellation_NN', 0.11601551962107941)]\n",
      "Nearest neighbors for 'life' (as a noun) with window size 4: [('life_NN', 1.0), ('tad_NN', 0.14632003397790388), ('inadequacy_NN', 0.1420180157203863), ('wine-making_NN', 0.13994321719181538), ('spouse_NN', 0.1289986595862316)]\n",
      "Nearest neighbors for 'deal' (as a noun) with window size 4: [('deal_NN', 1.0), ('stone_NN', 0.14058501115032992), ('stress_NN', 0.11474750483484887), ('laser_NN', 0.09981691245391677), ('railing_NN', 0.08940534106423989)]\n",
      "\n",
      "--- Training with window size: 5 ---\n",
      "Nearest neighbors for 'bank' (as a noun) with window size 5: [('bank_NN', 1.0), ('consulting_NN', 0.17457819881148273), ('merchant_NN', 0.1397194179306664), ('neighborhood_NN', 0.12690058133635224), ('passbook_NN', 0.12105909661436162)]\n",
      "Nearest neighbors for 'life' (as a noun) with window size 5: [('life_NN', 0.9999999999999999), ('sex_NN', 0.17121313755061934), ('style_NN', 0.16327718053848964), ('inadequacy_NN', 0.15457775266582166), ('tad_NN', 0.13100430731955284)]\n",
      "Nearest neighbors for 'deal' (as a noun) with window size 5: [('deal_NN', 1.0), ('stone_NN', 0.16355091811763134), ('installment_NN', 0.1371971882530591), ('stress_NN', 0.11785868332665118), ('corporation_NN', 0.10856842039478236)]\n"
     ]
    }
   ],
   "source": [
    "for window_size in window_sizes:\n",
    "    print(f\"\\n--- Training with window size: {window_size} ---\")\n",
    "    \n",
    "    # Assuming 'we' is your module where functions are defined\n",
    "    # Apply dynamic POS weighting (adjust 'pos_weights' as needed)\n",
    "    pos_weights = {\"_NN\": 1.5, \"_VB\": 1.2}  # Example weights for nouns and verbs\n",
    "    co_occurrence_matrix, vocab_index = we.word2vec_pos(tagged_corpus, window_size=window_size, pos_weighting=True, pos_weights=pos_weights)\n",
    "    \n",
    "    # Apply PPMI transformation\n",
    "    ppmi_matrix = we.compute_ppmi(co_occurrence_matrix)\n",
    "\n",
    "    for word in words_to_check:\n",
    "        word_with_pos = f\"{word.lower()}_NN\"  # Example POS tag, adjust as necessary\n",
    "        if word_with_pos in vocab_index:\n",
    "            word_idx = vocab_index[word_with_pos]\n",
    "            word_vector = ppmi_matrix[word_idx, :]\n",
    "            # Update 'find_nearest_neighbors' to consider POS tags in comparisons\n",
    "            # Assuming 'find_nearest_neighbors' is updated to take 'pos_tag' as an argument\n",
    "            pos_tag = 'NN'  # Specify the POS tag you're interested in\n",
    "            neighbors = we.find_nearest_neighbors(word_vector, ppmi_matrix, vocab_index, pos_tag=pos_tag, top_n=5)\n",
    "            print(f\"Nearest neighbors for '{word}' (as a noun) with window size {window_size}: {neighbors}\")\n",
    "        else:\n",
    "            print(f\"Word '{word}' not found in the vocabulary.\")\n",
    "\n",
    "\n"
   ]
  }
 ],
 "metadata": {
  "kernelspec": {
   "display_name": "Python 3",
   "language": "python",
   "name": "python3"
  },
  "language_info": {
   "codemirror_mode": {
    "name": "ipython",
    "version": 3
   },
   "file_extension": ".py",
   "mimetype": "text/x-python",
   "name": "python",
   "nbconvert_exporter": "python",
   "pygments_lexer": "ipython3",
   "version": "3.11.9"
  }
 },
 "nbformat": 4,
 "nbformat_minor": 2
}
