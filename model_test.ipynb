{
 "cells": [
  {
   "cell_type": "code",
   "execution_count": 1,
   "metadata": {},
   "outputs": [],
   "source": [
    "import numpy as np\n",
    "import word_embedding as we"
   ]
  },
  {
   "cell_type": "code",
   "execution_count": 2,
   "metadata": {},
   "outputs": [],
   "source": [
    "import nltk\n",
    "\n",
    "# Function to check if the dataset is already downloaded\n",
    "def download_nltk_data_if_needed(dataset_name):\n",
    "    try:\n",
    "        # Check if the dataset is already available locally\n",
    "        nltk.data.find(f'corpora/{dataset_name}')\n",
    "    except LookupError:\n",
    "        # If not found, download the dataset\n",
    "        nltk.download(dataset_name)\n",
    "\n",
    "# Replace 'treebank' with any other dataset you want to check\n",
    "download_nltk_data_if_needed('treebank')"
   ]
  },
  {
   "cell_type": "code",
   "execution_count": 3,
   "metadata": {},
   "outputs": [
    {
     "name": "stdout",
     "output_type": "stream",
     "text": [
      "[('Pierre', 'NNP'), ('Vinken', 'NNP'), (',', ','), ('61', 'CD'), ('years', 'NNS'), ('old', 'JJ'), (',', ','), ('will', 'MD'), ('join', 'VB'), ('the', 'DT'), ('board', 'NN'), ('as', 'IN'), ('a', 'DT'), ('nonexecutive', 'JJ'), ('director', 'NN'), ('Nov.', 'NNP'), ('29', 'CD'), ('.', '.')]\n"
     ]
    }
   ],
   "source": [
    "tagged_corpus = nltk.corpus.treebank.tagged_sents()\n",
    "print(tagged_corpus[0])"
   ]
  },
  {
   "cell_type": "code",
   "execution_count": 4,
   "metadata": {},
   "outputs": [],
   "source": [
    "window_sizes = [2, 3, 4, 5]  # Experiment with different window sizes\n",
    "words_to_check = ['bank', 'life', 'deal']  # Words to check nearest neighbors for"
   ]
  },
  {
   "cell_type": "code",
   "execution_count": 6,
   "metadata": {},
   "outputs": [
    {
     "name": "stdout",
     "output_type": "stream",
     "text": [
      "\n",
      "--- Training with window size: 2 ---\n",
      "Nearest neighbors for 'bank' with window size 2: [('bank_NN', 0.9999999999999998), ('problem_NN', 0.777471561405543), ('day_NN', 0.7444897800851263), ('law_NN', 0.7185290673597967), ('thrift_NN', 0.7184157229917689)]\n",
      "Nearest neighbors for 'life' with window size 2: [('life_NN', 1.0000000000000002), ('business_NN', 0.6281363246550238), ('harm_NN', 0.614023645162669), ('spouse_NN', 0.6092076990801715), ('history_NN', 0.5993505457967399)]\n",
      "Nearest neighbors for 'deal' with window size 2: [('deal_NN', 1.0), ('problem_NN', 0.8048757988498922), ('team_NN', 0.7601551737556985), ('bill_NN', 0.7574528079233805), ('report_NN', 0.7528979557460042)]\n",
      "\n",
      "--- Training with window size: 3 ---\n",
      "Nearest neighbors for 'bank' with window size 3: [('bank_NN', 1.0), ('problem_NN', 0.7974392389917512), ('group_NN', 0.7739648027081939), ('law_NN', 0.7659590171910243), ('move_NN', 0.7503959759184194)]\n",
      "Nearest neighbors for 'life' with window size 3: [('life_NN', 1.0000000000000002), ('business_NN', 0.6209243236529451), ('recession_NN', 0.6106549702636284), ('history_NN', 0.5937494637557944), ('equity_NN', 0.5902470076861547)]\n",
      "Nearest neighbors for 'deal' with window size 3: [('deal_NN', 0.9999999999999999), ('problem_NN', 0.7890589802120918), ('group_NN', 0.7588511213590702), ('company_NN', 0.7560666572152146), ('law_NN', 0.7385142588996473)]\n",
      "\n",
      "--- Training with window size: 4 ---\n",
      "Nearest neighbors for 'bank' with window size 4: [('bank_NN', 1.0), ('firm_NN', 0.7905415849257328), ('group_NN', 0.7862060093674369), ('law_NN', 0.774116139473563), ('problem_NN', 0.7734220303151921)]\n",
      "Nearest neighbors for 'life' with window size 4: [('life_NN', 1.0000000000000002), ('death_NN', 0.6232087608660223), ('job_NN', 0.6118488728401733), ('recession_NN', 0.6067018470596139), ('business_NN', 0.6015889750748126)]\n",
      "Nearest neighbors for 'deal' with window size 4: [('deal_NN', 1.0000000000000002), ('group_NN', 0.7827660073847358), ('problem_NN', 0.7675584825820081), ('firm_NN', 0.7563275842567992), ('company_NN', 0.7541416537588405)]\n",
      "\n",
      "--- Training with window size: 5 ---\n",
      "Nearest neighbors for 'bank' with window size 5: [('bank_NN', 1.0), ('firm_NN', 0.7993703096409712), ('company_NN', 0.7902142603160808), ('group_NN', 0.7851872340107592), ('industry_NN', 0.7849657391761298)]\n",
      "Nearest neighbors for 'life' with window size 5: [('life_NN', 1.0), ('firm_NN', 0.662674170335154), ('law_NN', 0.6522859019051939), ('recession_NN', 0.6516613452410273), ('death_NN', 0.6502389050859978)]\n",
      "Nearest neighbors for 'deal' with window size 5: [('deal_NN', 1.0), ('group_NN', 0.8116878810878737), ('company_NN', 0.7977408499189557), ('firm_NN', 0.791712016126197), ('problem_NN', 0.7916048432968825)]\n"
     ]
    }
   ],
   "source": [
    "\n",
    "for window_size in window_sizes:\n",
    "    print(f\"\\n--- Training with window size: {window_size} ---\")\n",
    "    \n",
    "    # Train using the updated word2vec_pos with the current window size\n",
    "    co_occurrence_matrix, vocab_index = we.word2vec_pos(tagged_corpus, window_size=window_size, pos_weighting=None, pos_weights=None)\n",
    "\n",
    "    for word in words_to_check:\n",
    "    # Include the POS tag with the word to differentiate its grammatical role\n",
    "        word_with_pos = f\"{word.lower()}_NN\"  # Example: looking for nouns\n",
    "        if word_with_pos in vocab_index:\n",
    "            # The function now expects the word with its POS tag as the first argument\n",
    "            neighbors = we.find_nearest_neighbors(word_with_pos, co_occurrence_matrix, vocab_index, top_n=5)\n",
    "            print(f\"Nearest neighbors for '{word}' with window size {window_size}: {neighbors}\")\n",
    "        else:\n",
    "            print(f\"Word '{word}' not found in the vocabulary.\")\n",
    "\n"
   ]
  },
  {
   "cell_type": "code",
   "execution_count": 8,
   "metadata": {},
   "outputs": [
    {
     "name": "stdout",
     "output_type": "stream",
     "text": [
      "\n",
      "--- Training with window size: 2 ---\n",
      "Nearest neighbors for 'bank' (as a noun) with window size 2: [('bank_NN', 1.0), ('hub_NN', 0.17952764701792673), ('rap_NN', 0.1633844953010835), ('banking_NN', 0.157220764306915), ('habit_NN', 0.130114415948027)]\n",
      "Nearest neighbors for 'life' (as a noun) with window size 2: [('life_NN', 0.9999999999999999), ('wine-making_NN', 0.24164500764015825), ('batting_NN', 0.20151008696454353), ('sex_NN', 0.1545129465608383), ('spouse_NN', 0.14828250341079866)]\n",
      "Nearest neighbors for 'deal' (as a noun) with window size 2: [('deal_NN', 0.9999999999999999), ('laser_NN', 0.15279723156683317), ('count_NN', 0.15129338638974235), ('bridge_NN', 0.14226287106357155), ('sidewalk_NN', 0.1306482734255041)]\n",
      "\n",
      "--- Training with window size: 3 ---\n",
      "Nearest neighbors for 'bank' (as a noun) with window size 3: [('bank_NN', 1.0), ('banking_NN', 0.12815605433362717), ('milestone_NN', 0.123461102504619), ('hub_NN', 0.1163675461216579), ('directorship_NN', 0.10588980236779791)]\n",
      "Nearest neighbors for 'life' (as a noun) with window size 3: [('life_NN', 1.0), ('inadequacy_NN', 0.21131365338023186), ('spouse_NN', 0.20332134841095198), ('wine-making_NN', 0.17022167509733863), ('tad_NN', 0.16421856696512602)]\n",
      "Nearest neighbors for 'deal' (as a noun) with window size 3: [('deal_NN', 1.0), ('stress_NN', 0.14765448728972477), ('laser_NN', 0.12327625657876819), ('installment_NN', 0.10756107362696413), ('count_NN', 0.1041988209909874)]\n",
      "\n",
      "--- Training with window size: 4 ---\n",
      "Nearest neighbors for 'bank' (as a noun) with window size 4: [('bank_NN', 1.0), ('consulting_NN', 0.1702593396982761), ('merchant_NN', 0.138367765011063), ('passbook_NN', 0.12182169031201673), ('cancellation_NN', 0.11601551962107941)]\n",
      "Nearest neighbors for 'life' (as a noun) with window size 4: [('life_NN', 1.0), ('tad_NN', 0.14632003397790388), ('inadequacy_NN', 0.1420180157203863), ('wine-making_NN', 0.13994321719181538), ('spouse_NN', 0.1289986595862316)]\n",
      "Nearest neighbors for 'deal' (as a noun) with window size 4: [('deal_NN', 1.0), ('stone_NN', 0.14058501115032992), ('stress_NN', 0.11474750483484887), ('laser_NN', 0.09981691245391677), ('railing_NN', 0.08940534106423989)]\n",
      "\n",
      "--- Training with window size: 5 ---\n",
      "Nearest neighbors for 'bank' (as a noun) with window size 5: [('bank_NN', 1.0), ('consulting_NN', 0.17457819881148273), ('merchant_NN', 0.1397194179306664), ('neighborhood_NN', 0.12690058133635224), ('passbook_NN', 0.12105909661436162)]\n",
      "Nearest neighbors for 'life' (as a noun) with window size 5: [('life_NN', 0.9999999999999999), ('sex_NN', 0.17121313755061934), ('style_NN', 0.16327718053848964), ('inadequacy_NN', 0.15457775266582166), ('tad_NN', 0.13100430731955284)]\n",
      "Nearest neighbors for 'deal' (as a noun) with window size 5: [('deal_NN', 1.0), ('stone_NN', 0.16355091811763134), ('installment_NN', 0.1371971882530591), ('stress_NN', 0.11785868332665118), ('corporation_NN', 0.10856842039478236)]\n"
     ]
    }
   ],
   "source": [
    "for window_size in window_sizes:\n",
    "    print(f\"\\n--- Training with window size: {window_size} ---\")\n",
    "    \n",
    "    # Apply dynamic POS weighting (adjust 'pos_weights' as needed)\n",
    "    pos_weights = {\"_NN\": 1.5, \"_VB\": 1.2}  # Example weights for nouns and verbs\n",
    "    \n",
    "    # Generate the co-occurrence matrix with POS weighting\n",
    "    co_occurrence_matrix, vocab_index = we.word2vec_pos(tagged_corpus, window_size=window_size, pos_weights=pos_weights)\n",
    "    \n",
    "    # Transform the co-occurrence matrix using PPMI\n",
    "    ppmi_matrix = we.compute_ppmi(co_occurrence_matrix)\n",
    "\n",
    "    for word in words_to_check:\n",
    "        word_with_pos = f\"{word.lower()}_NN\"  # Target nouns specifically\n",
    "        if word_with_pos in vocab_index:\n",
    "            word_idx = vocab_index[word_with_pos]\n",
    "            word_vector = ppmi_matrix[word_idx, :]\n",
    "            \n",
    "            # Find nearest neighbors, considering only those with the same POS tag ('NN' here)\n",
    "            neighbors = we.find_nearest_neighbors(word_with_pos, ppmi_matrix, vocab_index, top_n=5)  # Assuming this function is adapted for POS\n",
    "            print(f\"Nearest neighbors for '{word}' (as a noun) with window size {window_size}: {neighbors}\")\n",
    "        else:\n",
    "            print(f\"Word '{word}' not found in the vocabulary.\")\n",
    "\n",
    "\n",
    "\n"
   ]
  }
 ],
 "metadata": {
  "kernelspec": {
   "display_name": "Python 3",
   "language": "python",
   "name": "python3"
  },
  "language_info": {
   "codemirror_mode": {
    "name": "ipython",
    "version": 3
   },
   "file_extension": ".py",
   "mimetype": "text/x-python",
   "name": "python",
   "nbconvert_exporter": "python",
   "pygments_lexer": "ipython3",
   "version": "3.11.9"
  }
 },
 "nbformat": 4,
 "nbformat_minor": 2
}
