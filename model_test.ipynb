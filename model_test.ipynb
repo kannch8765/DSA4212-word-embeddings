{
 "cells": [
  {
   "cell_type": "code",
   "execution_count": 1,
   "metadata": {},
   "outputs": [],
   "source": [
    "import numpy as np\n",
    "import word_embedding as we"
   ]
  },
  {
   "cell_type": "code",
   "execution_count": 2,
   "metadata": {},
   "outputs": [],
   "source": [
    "import nltk\n",
    "\n",
    "# Function to check if the dataset is already downloaded\n",
    "def download_nltk_data_if_needed(dataset_name):\n",
    "    try:\n",
    "        # Check if the dataset is already available locally\n",
    "        nltk.data.find(f'corpora/{dataset_name}')\n",
    "    except LookupError:\n",
    "        # If not found, download the dataset\n",
    "        nltk.download(dataset_name)\n",
    "\n",
    "# Replace 'treebank' with any other dataset you want to check\n",
    "download_nltk_data_if_needed('treebank')"
   ]
  },
  {
   "cell_type": "code",
   "execution_count": 3,
   "metadata": {},
   "outputs": [
    {
     "name": "stdout",
     "output_type": "stream",
     "text": [
      "[('Pierre', 'NNP'), ('Vinken', 'NNP'), (',', ','), ('61', 'CD'), ('years', 'NNS'), ('old', 'JJ'), (',', ','), ('will', 'MD'), ('join', 'VB'), ('the', 'DT'), ('board', 'NN'), ('as', 'IN'), ('a', 'DT'), ('nonexecutive', 'JJ'), ('director', 'NN'), ('Nov.', 'NNP'), ('29', 'CD'), ('.', '.')]\n"
     ]
    }
   ],
   "source": [
    "tagged_corpus = nltk.corpus.treebank.tagged_sents()\n",
    "print(tagged_corpus[0])"
   ]
  },
  {
   "cell_type": "code",
   "execution_count": null,
   "metadata": {},
   "outputs": [],
   "source": [
    "window_sizes = [2, 3, 4, 5]  # Experiment with different window sizes\n",
    "words_to_check = ['bank', 'life', 'deal']  # Words to check nearest neighbors for"
   ]
  },
  {
   "cell_type": "code",
   "execution_count": 4,
   "metadata": {},
   "outputs": [
    {
     "name": "stdout",
     "output_type": "stream",
     "text": [
      "\n",
      "--- Training with window size: 2 ---\n"
     ]
    },
    {
     "ename": "UFuncTypeError",
     "evalue": "ufunc 'multiply' did not contain a loop with signature matching types (dtype('<U4'), dtype('<U32')) -> None",
     "output_type": "error",
     "traceback": [
      "\u001b[1;31m---------------------------------------------------------------------------\u001b[0m",
      "\u001b[1;31mUFuncTypeError\u001b[0m                            Traceback (most recent call last)",
      "Cell \u001b[1;32mIn[4], line 12\u001b[0m\n\u001b[0;32m     10\u001b[0m \u001b[38;5;66;03m# Evaluate by checking the nearest neighbors for selected words\u001b[39;00m\n\u001b[0;32m     11\u001b[0m \u001b[38;5;28;01mfor\u001b[39;00m word \u001b[38;5;129;01min\u001b[39;00m words_to_check:\n\u001b[1;32m---> 12\u001b[0m     neighbors \u001b[38;5;241m=\u001b[39m \u001b[43mwe\u001b[49m\u001b[38;5;241;43m.\u001b[39;49m\u001b[43mfind_nearest_neighbors\u001b[49m\u001b[43m(\u001b[49m\u001b[43mword\u001b[49m\u001b[43m,\u001b[49m\u001b[43m \u001b[49m\u001b[43mco_occurrence_matrix\u001b[49m\u001b[43m,\u001b[49m\u001b[43m \u001b[49m\u001b[43mvocab_index\u001b[49m\u001b[43m,\u001b[49m\u001b[43m \u001b[49m\u001b[43mtop_n\u001b[49m\u001b[38;5;241;43m=\u001b[39;49m\u001b[38;5;241;43m5\u001b[39;49m\u001b[43m)\u001b[49m\n\u001b[0;32m     13\u001b[0m     \u001b[38;5;28mprint\u001b[39m(\u001b[38;5;124mf\u001b[39m\u001b[38;5;124m\"\u001b[39m\u001b[38;5;124mNearest neighbors for \u001b[39m\u001b[38;5;124m'\u001b[39m\u001b[38;5;132;01m{\u001b[39;00mword\u001b[38;5;132;01m}\u001b[39;00m\u001b[38;5;124m'\u001b[39m\u001b[38;5;124m with window size \u001b[39m\u001b[38;5;132;01m{\u001b[39;00mwindow_size\u001b[38;5;132;01m}\u001b[39;00m\u001b[38;5;124m: \u001b[39m\u001b[38;5;132;01m{\u001b[39;00mneighbors\u001b[38;5;132;01m}\u001b[39;00m\u001b[38;5;124m\"\u001b[39m)\n",
      "File \u001b[1;32md:\\Github_Repos\\DSA4212-word-embeddings\\word_embedding.py:111\u001b[0m, in \u001b[0;36mfind_nearest_neighbors\u001b[1;34m(word_vector, ppmi_matrix, vocab_index, top_n)\u001b[0m\n\u001b[0;32m    109\u001b[0m \u001b[38;5;28;01mfor\u001b[39;00m other_word, other_idx \u001b[38;5;129;01min\u001b[39;00m vocab_index\u001b[38;5;241m.\u001b[39mitems():\n\u001b[0;32m    110\u001b[0m     other_vector \u001b[38;5;241m=\u001b[39m ppmi_matrix[other_idx, :]\n\u001b[1;32m--> 111\u001b[0m     sim \u001b[38;5;241m=\u001b[39m \u001b[43mcosine_similarity\u001b[49m\u001b[43m(\u001b[49m\u001b[43mword_vector\u001b[49m\u001b[43m,\u001b[49m\u001b[43m \u001b[49m\u001b[43mother_vector\u001b[49m\u001b[43m)\u001b[49m  \u001b[38;5;66;03m# Assuming cosine_similarity is defined\u001b[39;00m\n\u001b[0;32m    112\u001b[0m     similarities\u001b[38;5;241m.\u001b[39mappend((other_word, sim))\n\u001b[0;32m    114\u001b[0m \u001b[38;5;66;03m# Sort the words by their similarity (high to low) and take the top_n results\u001b[39;00m\n",
      "File \u001b[1;32md:\\Github_Repos\\DSA4212-word-embeddings\\word_embedding.py:47\u001b[0m, in \u001b[0;36mcosine_similarity\u001b[1;34m(v, w)\u001b[0m\n\u001b[0;32m     45\u001b[0m \u001b[38;5;28;01mdef\u001b[39;00m \u001b[38;5;21mcosine_similarity\u001b[39m(v, w):\n\u001b[0;32m     46\u001b[0m     \u001b[38;5;66;03m# Compute the dot product between v and w\u001b[39;00m\n\u001b[1;32m---> 47\u001b[0m     dot_product \u001b[38;5;241m=\u001b[39m \u001b[43mnp\u001b[49m\u001b[38;5;241;43m.\u001b[39;49m\u001b[43mdot\u001b[49m\u001b[43m(\u001b[49m\u001b[43mv\u001b[49m\u001b[43m,\u001b[49m\u001b[43m \u001b[49m\u001b[43mw\u001b[49m\u001b[43m)\u001b[49m\n\u001b[0;32m     49\u001b[0m     \u001b[38;5;66;03m# Compute the magnitude (length) of v and w\u001b[39;00m\n\u001b[0;32m     50\u001b[0m     magnitude_v \u001b[38;5;241m=\u001b[39m np\u001b[38;5;241m.\u001b[39msqrt(np\u001b[38;5;241m.\u001b[39mdot(v, v))\n",
      "\u001b[1;31mUFuncTypeError\u001b[0m: ufunc 'multiply' did not contain a loop with signature matching types (dtype('<U4'), dtype('<U32')) -> None"
     ]
    }
   ],
   "source": [
    "\n",
    "\n",
    "for window_size in window_sizes:\n",
    "    print(f\"\\n--- Training with window size: {window_size} ---\")\n",
    "    \n",
    "    # Train using word2vec_pos with the current window size\n",
    "    co_occurrence_matrix, vocab_index = we.word2vec_pos(tagged_corpus, window_size=window_size)\n",
    "    \n",
    "    # Evaluate by checking the nearest neighbors for selected words\n",
    "    for word in words_to_check:\n",
    "        neighbors = we.find_nearest_neighbors(word, co_occurrence_matrix, vocab_index, top_n=5)\n",
    "        print(f\"Nearest neighbors for '{word}' with window size {window_size}: {neighbors}\")\n"
   ]
  },
  {
   "cell_type": "code",
   "execution_count": 5,
   "metadata": {},
   "outputs": [
    {
     "name": "stdout",
     "output_type": "stream",
     "text": [
      "\n",
      "--- Training with window size: 2 ---\n"
     ]
    },
    {
     "name": "stderr",
     "output_type": "stream",
     "text": [
      "d:\\Github_Repos\\DSA4212-word-embeddings\\word_embedding.py:69: RuntimeWarning: invalid value encountered in divide\n",
      "  ppmi_matrix = np.maximum(np.log2(joint_prob_matrix / (word_prob[:, None] * context_prob[None, :])), 0)\n",
      "d:\\Github_Repos\\DSA4212-word-embeddings\\word_embedding.py:69: RuntimeWarning: divide by zero encountered in log2\n",
      "  ppmi_matrix = np.maximum(np.log2(joint_prob_matrix / (word_prob[:, None] * context_prob[None, :])), 0)\n"
     ]
    },
    {
     "name": "stdout",
     "output_type": "stream",
     "text": [
      "Nearest neighbors for 'bank' with window size 2: [('bank_NN', 0.9999999999999999), ('guys_NNS', 0.20076073137124925), ('hub_NN', 0.1799275534810626), ('rap_NN', 0.16374325243244675), ('banking_NN', 0.15719172981916166)]\n",
      "Nearest neighbors for 'life' with window size 2: [('life_NN', 1.0), ('wine-making_NN', 0.24138430367839261), ('batting_NN', 0.20128615359452723), ('chaotic_JJ', 0.17092618914232138), ('133.8_CD', 0.16481087836525135)]\n",
      "Nearest neighbors for 'deal' with window size 2: [('deal_NN', 1.0), ('guided_VBD', 0.23631290993596277), ('reds_NNS', 0.21924150256991745), ('male-only_JJ', 0.17611700919135898), ('loading_VBG', 0.17455273194495294)]\n",
      "\n",
      "--- Training with window size: 3 ---\n",
      "Nearest neighbors for 'bank' with window size 3: [('bank_NN', 1.0), ('nasdaq_NNP', 0.14399113234415958), ('leading_JJ', 0.13282857642794185), ('soviet_JJ', 0.12989160450485296), ('banking_NN', 0.12808070676783648)]\n",
      "Nearest neighbors for 'life' with window size 3: [('life_NN', 1.0), ('inadequacy_NN', 0.21169002163896497), ('spouse_NN', 0.2029902281631396), ('*-139_-NONE-', 0.19292095880926954), ('wine-making_NN', 0.17022142155820044)]\n",
      "Nearest neighbors for 'deal' with window size 3: [('deal_NN', 1.0), ('mitsui_NNP', 0.1961192740889705), ('candela_NNP', 0.1692871048974956), ('tokyu_NNP', 0.16386818254292662), ('birds_NNS', 0.15643781170150228)]\n",
      "\n",
      "--- Training with window size: 4 ---\n",
      "Nearest neighbors for 'bank' with window size 4: [('bank_NN', 1.0000000000000002), ('consulting_NN', 0.17019146556737838), ('nasdaq_NNP', 0.15025511069845357), ('*t*-120_-NONE-', 0.14699250660161947), ('merchant_NN', 0.13826895509858264)]\n",
      "Nearest neighbors for 'life' with window size 4: [('life_NN', 1.0), ('drawn_VBN', 0.18985040734909409), ('styles_NNS', 0.1791676645385829), ('seniors_NNP', 0.16463252419515528), ('fuller_JJR', 0.16006707501848189)]\n",
      "Nearest neighbors for 'deal' with window size 4: [('deal_NN', 1.0), ('guided_VBD', 0.2127772669434762), ('tokyu_NNP', 0.1938232438522769), ('joint-venture_JJ', 0.19232123953974462), ('propose_VBP', 0.19172348594733907)]\n",
      "\n",
      "--- Training with window size: 5 ---\n",
      "Nearest neighbors for 'bank' with window size 5: [('bank_NN', 0.9999999999999999), ('holding_VBG', 0.1775189270832503), ('consulting_NN', 0.17450411469684007), ('*t*-205_-NONE-', 0.16982761761532442), ('nasdaq_NNP', 0.16832426639842607)]\n",
      "Nearest neighbors for 'life' with window size 5: [('life_NN', 1.0), ('styles_NNS', 0.21660055216857332), ('fuller_JJR', 0.2122135752864984), ('tailoring_VBG', 0.19616982427983937), ('vagrant_JJ', 0.18865141360334226)]\n",
      "Nearest neighbors for 'deal' with window size 5: [('deal_NN', 0.9999999999999999), ('joint-venture_JJ', 0.22058738195201405), ('architects_NNS', 0.20525478099206956), ('eggers_NNP', 0.19654284582591555), ('guided_VBD', 0.19471237264777896)]\n"
     ]
    }
   ],
   "source": [
    "for window_size in window_sizes:\n",
    "    print(f\"\\n--- Training with window size: {window_size} ---\")\n",
    "    \n",
    "    co_occurrence_matrix, vocab_index = we.word2vec_pos(tagged_corpus, window_size=window_size)\n",
    "    \n",
    "    # Apply PPMI transformation\n",
    "    ppmi_matrix = we.compute_ppmi(co_occurrence_matrix)\n",
    "\n",
    "    for word in words_to_check:\n",
    "        word_with_pos = f\"{word.lower()}_NN\"  # Example POS tag, adjust as necessary\n",
    "        if word_with_pos in vocab_index:\n",
    "            word_idx = vocab_index[word_with_pos]\n",
    "            word_vector = ppmi_matrix[word_idx, :]\n",
    "            neighbors = we.find_nearest_neighbors(word_vector, ppmi_matrix, vocab_index, top_n=5)\n",
    "            print(f\"Nearest neighbors for '{word}' with window size {window_size}: {neighbors}\")\n",
    "        else:\n",
    "            print(f\"Word '{word}' not found in the vocabulary.\")\n",
    "\n"
   ]
  }
 ],
 "metadata": {
  "kernelspec": {
   "display_name": "Python 3",
   "language": "python",
   "name": "python3"
  },
  "language_info": {
   "codemirror_mode": {
    "name": "ipython",
    "version": 3
   },
   "file_extension": ".py",
   "mimetype": "text/x-python",
   "name": "python",
   "nbconvert_exporter": "python",
   "pygments_lexer": "ipython3",
   "version": "3.11.9"
  }
 },
 "nbformat": 4,
 "nbformat_minor": 2
}
