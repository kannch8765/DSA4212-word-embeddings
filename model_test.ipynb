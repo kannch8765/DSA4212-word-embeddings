{
 "cells": [
  {
   "cell_type": "code",
   "execution_count": 3,
   "metadata": {},
   "outputs": [],
   "source": [
    "import numpy as np\n",
    "import word_embedding as we # contains the word embedding functions"
   ]
  },
  {
   "cell_type": "code",
   "execution_count": 4,
   "metadata": {},
   "outputs": [],
   "source": [
    "import nltk\n",
    "#prevent unnecessary downloads\n",
    "def download_nltk_data_if_needed(dataset_name):\n",
    "    try:\n",
    "        nltk.data.find(f'corpora/{dataset_name}')\n",
    "    except LookupError:\n",
    "        nltk.download(dataset_name)\n",
    "\n",
    "download_nltk_data_if_needed('treebank')"
   ]
  },
  {
   "cell_type": "code",
   "execution_count": 5,
   "metadata": {},
   "outputs": [
    {
     "name": "stdout",
     "output_type": "stream",
     "text": [
      "[('Pierre', 'NNP'), ('Vinken', 'NNP'), (',', ','), ('61', 'CD'), ('years', 'NNS'), ('old', 'JJ'), (',', ','), ('will', 'MD'), ('join', 'VB'), ('the', 'DT'), ('board', 'NN'), ('as', 'IN'), ('a', 'DT'), ('nonexecutive', 'JJ'), ('director', 'NN'), ('Nov.', 'NNP'), ('29', 'CD'), ('.', '.')]\n"
     ]
    }
   ],
   "source": [
    "#quick look at data\n",
    "tagged_corpus = nltk.corpus.treebank.tagged_sents()\n",
    "print(tagged_corpus[0])"
   ]
  },
  {
   "cell_type": "code",
   "execution_count": 14,
   "metadata": {},
   "outputs": [],
   "source": [
    "window_sizes = [2, 3, 4, 5]  \n",
    "words_to_check = ['bank', 'teacher', 'firm']  # test with different words"
   ]
  },
  {
   "cell_type": "markdown",
   "metadata": {},
   "source": [
    "Co-occurence matrix"
   ]
  },
  {
   "cell_type": "code",
   "execution_count": 15,
   "metadata": {},
   "outputs": [
    {
     "name": "stdout",
     "output_type": "stream",
     "text": [
      "\n",
      "--- Training with window size: 2 ---\n",
      "Nearest neighbors for 'bank' with window size 2: [('bank_NN', 0.9999999999999998), ('problem_NN', 0.777471561405543), ('day_NN', 0.7444897800851263), ('law_NN', 0.7185290673597967), ('thrift_NN', 0.7184157229917689)]\n",
      "Nearest neighbors for 'teacher' with window size 2: [('teacher_NN', 0.9999999999999999), ('group_NN', 0.6980366760668572), ('game_NN', 0.6570210739972892), ('metallgesellschaft_NN', 0.636929755298482), ('problem_NN', 0.6361733063910819)]\n",
      "Nearest neighbors for 'firm' with window size 2: [('firm_NN', 1.0), ('company_NN', 0.8929046695492058), ('market_NN', 0.8656699838558913), ('department_NN', 0.8609000940514345), ('world_NN', 0.8573188420505795)]\n",
      "\n",
      "--- Training with window size: 3 ---\n",
      "Nearest neighbors for 'bank' with window size 3: [('bank_NN', 1.0), ('problem_NN', 0.7974392389917512), ('group_NN', 0.7739648027081939), ('law_NN', 0.7659590171910243), ('move_NN', 0.7503959759184194)]\n",
      "Nearest neighbors for 'teacher' with window size 3: [('teacher_NN', 1.0), ('problem_NN', 0.7335452657987996), ('group_NN', 0.7313702080317851), ('investor_NN', 0.7016515169002376), ('bank_NN', 0.6883705042091695)]\n",
      "Nearest neighbors for 'firm' with window size 3: [('firm_NN', 1.0), ('company_NN', 0.8955328802958217), ('industry_NN', 0.8832437693394213), ('market_NN', 0.877297747882804), ('government_NN', 0.8574397092504018)]\n",
      "\n",
      "--- Training with window size: 4 ---\n",
      "Nearest neighbors for 'bank' with window size 4: [('bank_NN', 1.0), ('firm_NN', 0.7905415849257328), ('group_NN', 0.7862060093674369), ('law_NN', 0.774116139473563), ('problem_NN', 0.7734220303151921)]\n",
      "Nearest neighbors for 'teacher' with window size 4: [('teacher_NN', 1.0), ('group_NN', 0.723209079895182), ('problem_NN', 0.70690907616457), ('history_NN', 0.7016179492669333), ('lawyer_NN', 0.6978840986146835)]\n",
      "Nearest neighbors for 'firm' with window size 4: [('firm_NN', 0.9999999999999999), ('company_NN', 0.880440135204432), ('market_NN', 0.856987716682202), ('industry_NN', 0.8500803433169323), ('country_NN', 0.8457644932919722)]\n",
      "\n",
      "--- Training with window size: 5 ---\n",
      "Nearest neighbors for 'bank' with window size 5: [('bank_NN', 1.0), ('firm_NN', 0.7993703096409712), ('company_NN', 0.7902142603160808), ('group_NN', 0.7851872340107592), ('industry_NN', 0.7849657391761298)]\n",
      "Nearest neighbors for 'teacher' with window size 5: [('teacher_NN', 1.0), ('group_NN', 0.7460217177301934), ('problem_NN', 0.7402736362008204), ('investment_NN', 0.7285522383428408), ('investor_NN', 0.7272198404801422)]\n",
      "Nearest neighbors for 'firm' with window size 5: [('firm_NN', 1.0), ('company_NN', 0.8728303264541214), ('industry_NN', 0.8688453676561405), ('government_NN', 0.8530288638126968), ('country_NN', 0.8345966630265789)]\n"
     ]
    }
   ],
   "source": [
    "\n",
    "for window_size in window_sizes:\n",
    "    print(f\"\\n--- Training with window size: {window_size} ---\")\n",
    "    co_occurrence_matrix, vocab_index = we.word2vec_pos(tagged_corpus, window_size=window_size, pos_weighting=None, pos_weights=None)\n",
    "\n",
    "    for word in words_to_check:\n",
    "        word_with_pos = f\"{word.lower()}_NN\"  # look for nouns, change if looking for other POS\n",
    "        if word_with_pos in vocab_index:\n",
    "            neighbors = we.find_nearest_neighbors(word_with_pos, co_occurrence_matrix, vocab_index, top_n=5)\n",
    "            print(f\"Nearest neighbors for '{word}' with window size {window_size}: {neighbors}\")\n",
    "        else:\n",
    "            print(f\"Word '{word}' not found in the vocabulary.\")\n",
    "\n"
   ]
  },
  {
   "cell_type": "markdown",
   "metadata": {},
   "source": [
    "Pointwise Mutual Information"
   ]
  },
  {
   "cell_type": "code",
   "execution_count": 17,
   "metadata": {},
   "outputs": [
    {
     "name": "stdout",
     "output_type": "stream",
     "text": [
      "\n",
      "--- Training with window size: 2 ---\n"
     ]
    },
    {
     "name": "stderr",
     "output_type": "stream",
     "text": [
      "d:\\Github_Repos\\DSA4212-word-embeddings\\word_embedding.py:71: RuntimeWarning: invalid value encountered in divide\n",
      "  ppmi_matrix = np.maximum(np.log2(joint_prob_matrix / (word_prob[:, None] * context_prob[None, :])), 0)\n",
      "d:\\Github_Repos\\DSA4212-word-embeddings\\word_embedding.py:71: RuntimeWarning: divide by zero encountered in log2\n",
      "  ppmi_matrix = np.maximum(np.log2(joint_prob_matrix / (word_prob[:, None] * context_prob[None, :])), 0)\n"
     ]
    },
    {
     "name": "stdout",
     "output_type": "stream",
     "text": [
      "Nearest neighbors for 'bank' (as a noun) with window size 2: [('bank_NN', 1.0000000000000002), ('hub_NN', 0.18358817305338407), ('rap_NN', 0.16677927145748123), ('banking_NN', 0.15012653319507727), ('habit_NN', 0.13220693122246424)]\n",
      "Nearest neighbors for 'teacher' (as a noun) with window size 2: [('teacher_NN', 1.0), ('incentive-bonus_NN', 0.1871396590702692), ('death_NN', 0.177774234273022), ('cadet_NN', 0.17092311444926309), ('balloting_NN', 0.15334396204507705)]\n",
      "Nearest neighbors for 'firm' (as a noun) with window size 2: [('firm_NN', 1.0), ('participant_NN', 0.14409819226854925), ('replacement-car_NN', 0.11632386218533429), ('career_NN', 0.10954830004933941), ('merchant_NN', 0.10018303200017441)]\n",
      "\n",
      "--- Training with window size: 3 ---\n",
      "Nearest neighbors for 'bank' (as a noun) with window size 3: [('bank_NN', 1.0), ('presidency_NN', 0.13227420408595775), ('banking_NN', 0.12774255806054122), ('milestone_NN', 0.12749062655172147), ('swing_NN', 0.12068961200897817)]\n",
      "Nearest neighbors for 'teacher' (as a noun) with window size 3: [('teacher_NN', 1.0000000000000002), ('knell_NN', 0.18947213855893502), ('incentive-bonus_NN', 0.16748161222754943), ('cadet_NN', 0.1506074394515931), ('death_NN', 0.11921194673932711)]\n",
      "Nearest neighbors for 'firm' (as a noun) with window size 3: [('firm_NN', 1.0), ('consulting_NN', 0.12541100916042708), ('identity-management_NN', 0.12025144535473044), ('toll_NN', 0.10424926175365694), ('affair_NN', 0.09542681557666739)]\n",
      "\n",
      "--- Training with window size: 4 ---\n",
      "Nearest neighbors for 'bank' (as a noun) with window size 4: [('bank_NN', 1.0), ('consulting_NN', 0.1818313961825546), ('merchant_NN', 0.14298820336583995), ('cancellation_NN', 0.13050097042634975), ('passbook_NN', 0.12577235428010652)]\n",
      "Nearest neighbors for 'teacher' (as a noun) with window size 4: [('teacher_NN', 0.9999999999999998), ('grant_NN', 0.17602829072950743), ('coaching_NN', 0.167300942768873), ('help_NN', 0.15829254478494437), ('dismissal_NN', 0.1453818228957953)]\n",
      "Nearest neighbors for 'firm' (as a noun) with window size 4: [('firm_NN', 1.0), ('replacement-car_NN', 0.16201829252209887), ('consulting_NN', 0.1277225233267815), ('identity-management_NN', 0.1079948363992126), ('meaning_NN', 0.10685911484795085)]\n",
      "\n",
      "--- Training with window size: 5 ---\n",
      "Nearest neighbors for 'bank' (as a noun) with window size 5: [('bank_NN', 1.0), ('consulting_NN', 0.18300239410696995), ('merchant_NN', 0.14302784917232855), ('neighborhood_NN', 0.1271457702460336), ('thrift_NN', 0.12641380337652358)]\n",
      "Nearest neighbors for 'teacher' (as a noun) with window size 5: [('teacher_NN', 1.0), ('social-studies_NN', 0.21350390893620927), ('help_NN', 0.19012245737919456), ('coaching_NN', 0.16428362659177134), ('dismissal_NN', 0.15845211384193889)]\n",
      "Nearest neighbors for 'firm' (as a noun) with window size 5: [('firm_NN', 1.0), ('replacement-car_NN', 0.1614460123921287), ('consulting_NN', 0.1331261256085148), ('affair_NN', 0.11654516848360912), ('workforce_NN', 0.10808757525065914)]\n"
     ]
    }
   ],
   "source": [
    "for window_size in window_sizes:\n",
    "    print(f\"\\n--- Training with window size: {window_size} ---\")\n",
    "    pos_weights = {\"_NN\": 1.5, \"_VB\": 1.2}  # adjust POS weight manually\n",
    "    \n",
    "    co_occurrence_matrix, vocab_index = we.word2vec_pos(tagged_corpus, window_size=window_size, pos_weights=pos_weights)\n",
    "    ppmi_matrix = we.compute_ppmi(co_occurrence_matrix)\n",
    "\n",
    "    for word in words_to_check:\n",
    "        word_with_pos = f\"{word.lower()}_NN\"  # look for nouns, change if looking for other POS\n",
    "        if word_with_pos in vocab_index:\n",
    "            word_idx = vocab_index[word_with_pos]\n",
    "            word_vector = ppmi_matrix[word_idx, :]\n",
    "            \n",
    "            neighbors = we.find_nearest_neighbors(word_with_pos, ppmi_matrix, vocab_index, top_n=5)  \n",
    "            print(f\"Nearest neighbors for '{word}' (as a noun) with window size {window_size}: {neighbors}\")\n",
    "        else:\n",
    "            print(f\"Word '{word}' not found in the vocabulary.\")\n",
    "\n",
    "\n",
    "\n"
   ]
  }
 ],
 "metadata": {
  "kernelspec": {
   "display_name": "Python 3",
   "language": "python",
   "name": "python3"
  },
  "language_info": {
   "codemirror_mode": {
    "name": "ipython",
    "version": 3
   },
   "file_extension": ".py",
   "mimetype": "text/x-python",
   "name": "python",
   "nbconvert_exporter": "python",
   "pygments_lexer": "ipython3",
   "version": "3.11.9"
  }
 },
 "nbformat": 4,
 "nbformat_minor": 2
}
