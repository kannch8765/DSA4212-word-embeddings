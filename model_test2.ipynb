{
 "cells": [
  {
   "cell_type": "code",
   "execution_count": 1,
   "metadata": {},
   "outputs": [],
   "source": [
    "import numpy as np\n",
    "import skipgram as sg\n",
    "from collections import defaultdict"
   ]
  },
  {
   "cell_type": "code",
   "execution_count": 2,
   "metadata": {},
   "outputs": [],
   "source": [
    "import nltk\n",
    "def download_nltk_data_if_needed(dataset_name):\n",
    "    try:\n",
    "        nltk.data.find(f'corpora/{dataset_name}')\n",
    "    except LookupError:\n",
    "        nltk.download(dataset_name)\n",
    "        \n",
    "download_nltk_data_if_needed('treebank')"
   ]
  },
  {
   "cell_type": "code",
   "execution_count": 3,
   "metadata": {},
   "outputs": [
    {
     "name": "stdout",
     "output_type": "stream",
     "text": [
      "[('Pierre', 'NNP'), ('Vinken', 'NNP'), (',', ','), ('61', 'CD'), ('years', 'NNS'), ('old', 'JJ'), (',', ','), ('will', 'MD'), ('join', 'VB'), ('the', 'DT'), ('board', 'NN'), ('as', 'IN'), ('a', 'DT'), ('nonexecutive', 'JJ'), ('director', 'NN'), ('Nov.', 'NNP'), ('29', 'CD'), ('.', '.')]\n"
     ]
    }
   ],
   "source": [
    "tagged_corpus = nltk.corpus.treebank.tagged_sents()\n",
    "print(tagged_corpus[0])"
   ]
  },
  {
   "cell_type": "code",
   "execution_count": 4,
   "metadata": {},
   "outputs": [],
   "source": [
    "tokenized_corpus_with_tags = [sg.tokenize_with_pos(sentence) for sentence in tagged_corpus]\n",
    "flattened_corpus_with_tags = [token for sentence in tokenized_corpus_with_tags for token in sentence]"
   ]
  },
  {
   "cell_type": "code",
   "execution_count": 5,
   "metadata": {},
   "outputs": [
    {
     "name": "stdout",
     "output_type": "stream",
     "text": [
      "['pierre_NNP', 'vinken_NNP', ',_,', '61_CD', 'years_NNS', 'old_JJ', ',_,', 'will_MD', 'join_VB', 'the_DT']\n"
     ]
    }
   ],
   "source": [
    "print(flattened_corpus_with_tags[:10])"
   ]
  },
  {
   "cell_type": "code",
   "execution_count": 6,
   "metadata": {},
   "outputs": [],
   "source": [
    "vocab = defaultdict(lambda: len(vocab))\n",
    "word_indices = [vocab[token] for token in flattened_corpus_with_tags]"
   ]
  },
  {
   "cell_type": "code",
   "execution_count": 7,
   "metadata": {},
   "outputs": [],
   "source": [
    "index_to_token = {index: token for token, index in vocab.items()}"
   ]
  },
  {
   "cell_type": "code",
   "execution_count": 8,
   "metadata": {},
   "outputs": [],
   "source": [
    "vocab_size = len(vocab)\n",
    "emb_dim = 100\n",
    "window_size = 2\n",
    "neg_samples = 5\n",
    "epochs = 100\n",
    "learning_rate = 0.01"
   ]
  },
  {
   "cell_type": "code",
   "execution_count": 9,
   "metadata": {},
   "outputs": [
    {
     "name": "stdout",
     "output_type": "stream",
     "text": [
      "Epoch 1/100 completed.\n",
      "Epoch 2/100 completed.\n",
      "Epoch 3/100 completed.\n",
      "Epoch 4/100 completed.\n",
      "Epoch 5/100 completed.\n",
      "Epoch 6/100 completed.\n",
      "Epoch 7/100 completed.\n",
      "Epoch 8/100 completed.\n",
      "Epoch 9/100 completed.\n",
      "Epoch 10/100 completed.\n",
      "Epoch 11/100 completed.\n",
      "Epoch 12/100 completed.\n",
      "Epoch 13/100 completed.\n",
      "Epoch 14/100 completed.\n",
      "Epoch 15/100 completed.\n",
      "Epoch 16/100 completed.\n",
      "Epoch 17/100 completed.\n",
      "Epoch 18/100 completed.\n",
      "Epoch 19/100 completed.\n",
      "Epoch 20/100 completed.\n",
      "Epoch 21/100 completed.\n",
      "Epoch 22/100 completed.\n",
      "Epoch 23/100 completed.\n",
      "Epoch 24/100 completed.\n",
      "Epoch 25/100 completed.\n",
      "Epoch 26/100 completed.\n",
      "Epoch 27/100 completed.\n",
      "Epoch 28/100 completed.\n",
      "Epoch 29/100 completed.\n",
      "Epoch 30/100 completed.\n",
      "Epoch 31/100 completed.\n",
      "Epoch 32/100 completed.\n",
      "Epoch 33/100 completed.\n",
      "Epoch 34/100 completed.\n",
      "Epoch 35/100 completed.\n",
      "Epoch 36/100 completed.\n",
      "Epoch 37/100 completed.\n",
      "Epoch 38/100 completed.\n",
      "Epoch 39/100 completed.\n",
      "Epoch 40/100 completed.\n",
      "Epoch 41/100 completed.\n",
      "Epoch 42/100 completed.\n",
      "Epoch 43/100 completed.\n",
      "Epoch 44/100 completed.\n",
      "Epoch 45/100 completed.\n",
      "Epoch 46/100 completed.\n",
      "Epoch 47/100 completed.\n",
      "Epoch 48/100 completed.\n",
      "Epoch 49/100 completed.\n",
      "Epoch 50/100 completed.\n",
      "Epoch 51/100 completed.\n",
      "Epoch 52/100 completed.\n",
      "Epoch 53/100 completed.\n",
      "Epoch 54/100 completed.\n",
      "Epoch 55/100 completed.\n",
      "Epoch 56/100 completed.\n",
      "Epoch 57/100 completed.\n",
      "Epoch 58/100 completed.\n",
      "Epoch 59/100 completed.\n",
      "Epoch 60/100 completed.\n",
      "Epoch 61/100 completed.\n",
      "Epoch 62/100 completed.\n",
      "Epoch 63/100 completed.\n",
      "Epoch 64/100 completed.\n",
      "Epoch 65/100 completed.\n",
      "Epoch 66/100 completed.\n",
      "Epoch 67/100 completed.\n",
      "Epoch 68/100 completed.\n",
      "Epoch 69/100 completed.\n",
      "Epoch 70/100 completed.\n",
      "Epoch 71/100 completed.\n",
      "Epoch 72/100 completed.\n",
      "Epoch 73/100 completed.\n",
      "Epoch 74/100 completed.\n",
      "Epoch 75/100 completed.\n",
      "Epoch 76/100 completed.\n",
      "Epoch 77/100 completed.\n",
      "Epoch 78/100 completed.\n",
      "Epoch 79/100 completed.\n",
      "Epoch 80/100 completed.\n",
      "Epoch 81/100 completed.\n",
      "Epoch 82/100 completed.\n",
      "Epoch 83/100 completed.\n",
      "Epoch 84/100 completed.\n",
      "Epoch 85/100 completed.\n",
      "Epoch 86/100 completed.\n",
      "Epoch 87/100 completed.\n",
      "Epoch 88/100 completed.\n",
      "Epoch 89/100 completed.\n",
      "Epoch 90/100 completed.\n",
      "Epoch 91/100 completed.\n",
      "Epoch 92/100 completed.\n",
      "Epoch 93/100 completed.\n",
      "Epoch 94/100 completed.\n",
      "Epoch 95/100 completed.\n",
      "Epoch 96/100 completed.\n",
      "Epoch 97/100 completed.\n",
      "Epoch 98/100 completed.\n",
      "Epoch 99/100 completed.\n",
      "Epoch 100/100 completed.\n"
     ]
    }
   ],
   "source": [
    "word_embeddings = sg.train(vocab_size, emb_dim, flattened_corpus_with_tags, window_size, neg_samples, epochs, learning_rate)"
   ]
  },
  {
   "cell_type": "code",
   "execution_count": 10,
   "metadata": {},
   "outputs": [
    {
     "data": {
      "text/plain": [
       "array([[ 0.26138577, -0.49349093, -0.51128775, ...,  0.12386352,\n",
       "        -0.38667834,  0.19027361],\n",
       "       [ 0.38441327, -0.39835801, -0.33673531, ...,  0.27986087,\n",
       "        -0.35998727, -0.05360633],\n",
       "       [ 0.63743511,  0.71259862,  0.45862903, ...,  0.41736575,\n",
       "         0.85968269,  0.85482232],\n",
       "       ...,\n",
       "       [ 0.07240138,  0.60318292,  0.23129892, ...,  0.01354019,\n",
       "         0.3034849 ,  0.1182057 ],\n",
       "       [ 0.03860551, -0.09502112,  0.22884016, ...,  0.12103769,\n",
       "        -0.07995741, -0.59478295],\n",
       "       [-0.44216613, -0.21115849, -0.29153576, ..., -0.22529254,\n",
       "        -0.35627789, -0.39913826]])"
      ]
     },
     "execution_count": 10,
     "metadata": {},
     "output_type": "execute_result"
    }
   ],
   "source": [
    "word_embeddings"
   ]
  },
  {
   "cell_type": "code",
   "execution_count": 20,
   "metadata": {},
   "outputs": [
    {
     "name": "stdout",
     "output_type": "stream",
     "text": [
      "Found 'deal' in vocab with the following indices: [3291, 5376, 7248]\n",
      "Nearest neighbors for index 3291:\n",
      "  hit_NN: 0.8258289887642533\n",
      "  seafood_NN: 0.8220139911993182\n",
      "  fairness_NN: 0.8200012648875471\n",
      "  len_NN: 0.8141770668603461\n",
      "  pretext_NN: 0.8104006519552144\n",
      "Nearest neighbors for index 5376:\n",
      "  notify_VB: 0.8194625763269121\n",
      "  disclose_VB: 0.8152288825383291\n",
      "  step_VB: 0.8104190268102567\n",
      "  impart_VB: 0.8074770382601183\n",
      "  accompany_VB: 0.8058699687123654\n",
      "Nearest neighbors for index 7248:\n",
      "  prefer_VBP: 0.8094294565770472\n",
      "  consider_VBP: 0.8042769439060169\n",
      "  own_VBP: 0.8038776500111564\n",
      "  differ_VBP: 0.8012875261869283\n",
      "  evoke_VBP: 0.8001068381253825\n"
     ]
    }
   ],
   "source": [
    "test_word_base = 'deal'  # word to look for\n",
    "test_word_indices = [index for word, index in vocab.items() if word.startswith(test_word_base + '_')]\n",
    "\n",
    "if test_word_indices:\n",
    "    print(f\"Found '{test_word_base}' in vocab with the following indices: {test_word_indices}\")\n",
    "    for test_word_index in test_word_indices:\n",
    "        if test_word_index < word_embeddings.shape[0]:\n",
    "            neighbors = sg.find_nearest_neighbors(test_word_index, word_embeddings, index_to_token, top_n=5)\n",
    "            print(f\"Nearest neighbors for index {test_word_index}:\")\n",
    "            for neighbor, similarity in neighbors:\n",
    "                print(f\"  {neighbor}: {similarity}\")\n",
    "        else:\n",
    "            print(f\"Index {test_word_index} out of bounds for embeddings array.\")\n",
    "else:\n",
    "    print(f\"'{test_word_base}' not found in vocabulary.\")\n"
   ]
  }
 ],
 "metadata": {
  "kernelspec": {
   "display_name": "Python 3",
   "language": "python",
   "name": "python3"
  },
  "language_info": {
   "codemirror_mode": {
    "name": "ipython",
    "version": 3
   },
   "file_extension": ".py",
   "mimetype": "text/x-python",
   "name": "python",
   "nbconvert_exporter": "python",
   "pygments_lexer": "ipython3",
   "version": "3.11.9"
  }
 },
 "nbformat": 4,
 "nbformat_minor": 2
}
